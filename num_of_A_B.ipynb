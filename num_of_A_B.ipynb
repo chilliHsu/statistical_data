{
 "cells": [
  {
   "cell_type": "code",
   "execution_count": 2,
   "metadata": {},
   "outputs": [],
   "source": [
    "import numpy as np\n",
    "import pandas as pd"
   ]
  },
  {
   "cell_type": "code",
   "execution_count": 5,
   "metadata": {},
   "outputs": [
    {
     "data": {
      "text/html": [
       "<div>\n",
       "<style scoped>\n",
       "    .dataframe tbody tr th:only-of-type {\n",
       "        vertical-align: middle;\n",
       "    }\n",
       "\n",
       "    .dataframe tbody tr th {\n",
       "        vertical-align: top;\n",
       "    }\n",
       "\n",
       "    .dataframe thead th {\n",
       "        text-align: right;\n",
       "    }\n",
       "</style>\n",
       "<table border=\"1\" class=\"dataframe\">\n",
       "  <thead>\n",
       "    <tr style=\"text-align: right;\">\n",
       "      <th></th>\n",
       "      <th>Unnamed: 0</th>\n",
       "      <th>YouTuber</th>\n",
       "      <th>Follower Number</th>\n",
       "    </tr>\n",
       "  </thead>\n",
       "  <tbody>\n",
       "    <tr>\n",
       "      <th>0</th>\n",
       "      <td>0</td>\n",
       "      <td>101rabbits</td>\n",
       "      <td>16345</td>\n",
       "    </tr>\n",
       "    <tr>\n",
       "      <th>1</th>\n",
       "      <td>1</td>\n",
       "      <td>1800PetMeds</td>\n",
       "      <td>13872</td>\n",
       "    </tr>\n",
       "    <tr>\n",
       "      <th>2</th>\n",
       "      <td>2</td>\n",
       "      <td>AaronsAnimals</td>\n",
       "      <td>714827</td>\n",
       "    </tr>\n",
       "    <tr>\n",
       "      <th>3</th>\n",
       "      <td>3</td>\n",
       "      <td>AfroHerpkeeper</td>\n",
       "      <td>25063</td>\n",
       "    </tr>\n",
       "    <tr>\n",
       "      <th>4</th>\n",
       "      <td>4</td>\n",
       "      <td>Animal Aid Unlimited, India</td>\n",
       "      <td>233652</td>\n",
       "    </tr>\n",
       "  </tbody>\n",
       "</table>\n",
       "</div>"
      ],
      "text/plain": [
       "   Unnamed: 0                     YouTuber  Follower Number\n",
       "0           0                   101rabbits            16345\n",
       "1           1                  1800PetMeds            13872\n",
       "2           2                AaronsAnimals           714827\n",
       "3           3               AfroHerpkeeper            25063\n",
       "4           4  Animal Aid Unlimited, India           233652"
      ]
     },
     "execution_count": 5,
     "metadata": {},
     "output_type": "execute_result"
    }
   ],
   "source": [
    "df =pd.read_csv('nums_of_YouTuber_follower.csv')\n",
    "df.head()"
   ]
  },
  {
   "cell_type": "code",
   "execution_count": 7,
   "metadata": {},
   "outputs": [],
   "source": [
    "stat =np.zeros(5)\n",
    "for i in range(len(df)):\n",
    "    lognum= int(np.log10(df['Follower Number'][i]))+1\n",
    "    stat[lognum-3] +=1"
   ]
  },
  {
   "cell_type": "code",
   "execution_count": 8,
   "metadata": {},
   "outputs": [
    {
     "data": {
      "text/plain": [
       "array([ 9., 25., 31., 19.,  4.])"
      ]
     },
     "execution_count": 8,
     "metadata": {},
     "output_type": "execute_result"
    }
   ],
   "source": [
    "stat"
   ]
  },
  {
   "cell_type": "code",
   "execution_count": 12,
   "metadata": {},
   "outputs": [
    {
     "data": {
      "text/plain": [
       "0               Brave Wilderness\n",
       "1                          Maymo\n",
       "2                       The Dodo\n",
       "3    Animal Aid Unlimited, India\n",
       "4                     AntsCanada\n",
       "Name: Names, dtype: object"
      ]
     },
     "execution_count": 12,
     "metadata": {},
     "output_type": "execute_result"
    }
   ],
   "source": [
    "import json\n",
    "with open('D:/Research/ytList.json', 'r') as f:\n",
    "    ytList = json.load(f)\n",
    "df = pd.read_csv('num_of_videos_YouTubers.csv')\n",
    "df['Names'].head()"
   ]
  },
  {
   "cell_type": "code",
   "execution_count": 13,
   "metadata": {},
   "outputs": [],
   "source": [
    "count = 0\n",
    "active_uploads = []\n",
    "active_yt = []\n",
    "for i in range(len(df)):\n",
    "    if df['Names'][i].strip() in ytList:\n",
    "        count+=1\n",
    "        active_uploads.append(df['Uploads'][i])\n",
    "        active_yt.append(df['Names'][i])"
   ]
  },
  {
   "cell_type": "code",
   "execution_count": 17,
   "metadata": {},
   "outputs": [],
   "source": [
    "new_df = pd.DataFrame({'YouTubers':active_yt,'Videos':active_uploads})\n",
    "new_df.to_csv('nums_of_videos_YouTubers.csv')"
   ]
  },
  {
   "cell_type": "code",
   "execution_count": 41,
   "metadata": {},
   "outputs": [
    {
     "name": "stdout",
     "output_type": "stream",
     "text": [
      "543\n",
      "6\n",
      "325\n",
      "4\n",
      "5150\n",
      "52\n",
      "247\n",
      "3\n",
      "431\n",
      "5\n",
      "997\n",
      "10\n",
      "550\n",
      "6\n",
      "300\n",
      "3\n",
      "82\n",
      "1\n",
      "135\n",
      "2\n",
      "655\n",
      "7\n",
      "243\n",
      "3\n",
      "337\n",
      "4\n",
      "927\n",
      "10\n",
      "110\n",
      "2\n",
      "990\n",
      "10\n",
      "79\n",
      "1\n",
      "342\n",
      "4\n",
      "76\n",
      "1\n",
      "1169\n",
      "12\n",
      "1180\n",
      "12\n",
      "398\n",
      "4\n",
      "118\n",
      "2\n",
      "2440\n",
      "25\n",
      "127\n",
      "2\n",
      "180\n",
      "2\n",
      "714\n",
      "8\n",
      "897\n",
      "9\n",
      "234\n",
      "3\n",
      "383\n",
      "4\n",
      "112\n",
      "2\n",
      "567\n",
      "6\n",
      "631\n",
      "7\n",
      "812\n",
      "9\n",
      "279\n",
      "3\n",
      "318\n",
      "4\n",
      "5099\n",
      "51\n",
      "101\n",
      "2\n",
      "247\n",
      "3\n",
      "1061\n",
      "11\n",
      "330\n",
      "4\n",
      "383\n",
      "4\n",
      "1198\n",
      "12\n",
      "420\n",
      "5\n",
      "88\n",
      "1\n",
      "99\n",
      "1\n",
      "285\n",
      "3\n",
      "346\n",
      "4\n",
      "850\n",
      "9\n",
      "315\n",
      "4\n",
      "446\n",
      "5\n",
      "813\n",
      "9\n",
      "126\n",
      "2\n",
      "750\n",
      "8\n",
      "423\n",
      "5\n",
      "341\n",
      "4\n",
      "585\n",
      "6\n",
      "463\n",
      "5\n",
      "281\n",
      "3\n",
      "420\n",
      "5\n",
      "320\n",
      "4\n",
      "550\n",
      "6\n",
      "210\n",
      "3\n",
      "295\n",
      "3\n",
      "332\n",
      "4\n",
      "409\n",
      "5\n",
      "272\n",
      "3\n",
      "547\n",
      "6\n",
      "572\n",
      "6\n",
      "121\n",
      "2\n",
      "273\n",
      "3\n",
      "171\n",
      "2\n",
      "142\n",
      "2\n",
      "190\n",
      "2\n",
      "306\n",
      "4\n",
      "315\n",
      "4\n",
      "100\n",
      "1\n",
      "271\n",
      "3\n",
      "89\n",
      "1\n",
      "1295\n",
      "13\n",
      "179\n",
      "2\n",
      "142\n",
      "2\n",
      "68\n",
      "1\n",
      "227\n",
      "3\n",
      "304\n",
      "4\n",
      "209\n",
      "3\n",
      "351\n",
      "4\n",
      "101\n",
      "2\n"
     ]
    }
   ],
   "source": [
    "import math\n",
    "stat = np.zeros(60)\n",
    "for videos in new_df['Videos']:\n",
    "    uploads = int(videos.replace(',',''))\n",
    "    print(uploads)\n",
    "    print(math.ceil(uploads/100))\n",
    "    stat[math.ceil(uploads/100)] += 1"
   ]
  },
  {
   "cell_type": "code",
   "execution_count": 42,
   "metadata": {},
   "outputs": [
    {
     "data": {
      "text/plain": [
       "88.0"
      ]
     },
     "execution_count": 42,
     "metadata": {},
     "output_type": "execute_result"
    }
   ],
   "source": [
    "np.sum(stat)"
   ]
  },
  {
   "cell_type": "code",
   "execution_count": 43,
   "metadata": {},
   "outputs": [
    {
     "data": {
      "text/plain": [
       "array([ 0.,  8., 15., 15., 17.,  7.,  7.,  2.,  2.,  4.,  3.,  1.,  3.,\n",
       "        1.,  0.,  0.,  0.,  0.,  0.,  0.,  0.,  0.,  0.,  0.,  0.,  1.,\n",
       "        0.,  0.,  0.,  0.,  0.,  0.,  0.,  0.,  0.,  0.,  0.,  0.,  0.,\n",
       "        0.,  0.,  0.,  0.,  0.,  0.,  0.,  0.,  0.,  0.,  0.,  0.,  1.,\n",
       "        1.,  0.,  0.,  0.,  0.,  0.,  0.,  0.])"
      ]
     },
     "execution_count": 43,
     "metadata": {},
     "output_type": "execute_result"
    }
   ],
   "source": [
    "stat"
   ]
  },
  {
   "cell_type": "code",
   "execution_count": 46,
   "metadata": {},
   "outputs": [],
   "source": [
    "nums_of_YouTubers = 100*np.arange(60)\n",
    "nums_of_Videos = stat"
   ]
  },
  {
   "cell_type": "code",
   "execution_count": 48,
   "metadata": {},
   "outputs": [],
   "source": [
    "nums_of_video_YouTuber = pd.DataFrame({'Number of YouTubers':nums_of_YouTubers,'Number of Videos':nums_of_Videos})\n",
    "nums_of_video_YouTuber.to_csv('nums_of_video_yt_interval.csv')"
   ]
  },
  {
   "cell_type": "markdown",
   "metadata": {},
   "source": [
    "# Total number of likes Vs Number of YouTuber"
   ]
  },
  {
   "cell_type": "code",
   "execution_count": 60,
   "metadata": {},
   "outputs": [
    {
     "data": {
      "text/plain": [
       "(88, 7)"
      ]
     },
     "execution_count": 60,
     "metadata": {},
     "output_type": "execute_result"
    }
   ],
   "source": [
    "import numpy as np\n",
    "data = np.load('IG_social_avg_max_total.npy')\n",
    "data.shape"
   ]
  },
  {
   "cell_type": "code",
   "execution_count": 77,
   "metadata": {},
   "outputs": [
    {
     "data": {
      "text/plain": [
       "26.0"
      ]
     },
     "execution_count": 77,
     "metadata": {},
     "output_type": "execute_result"
    }
   ],
   "source": [
    "total_likes = data[:,5]\n",
    "min(total_likes)"
   ]
  },
  {
   "cell_type": "code",
   "execution_count": 78,
   "metadata": {},
   "outputs": [
    {
     "name": "stdout",
     "output_type": "stream",
     "text": [
      "213237.0\n",
      "7\n",
      "240960.0\n",
      "7\n",
      "2281252.0\n",
      "8\n",
      "653002.0\n",
      "7\n",
      "4707731.0\n",
      "8\n",
      "70693.0\n",
      "6\n",
      "6120.0\n",
      "5\n",
      "1199249.0\n",
      "8\n",
      "153027.0\n",
      "7\n",
      "12053198.0\n",
      "9\n",
      "5062151.0\n",
      "8\n",
      "15737238.0\n",
      "9\n",
      "317193.0\n",
      "7\n",
      "2922163.0\n",
      "8\n",
      "1712437.0\n",
      "8\n",
      "464837.0\n",
      "7\n",
      "27514148.0\n",
      "9\n",
      "100831.0\n",
      "7\n",
      "14155.0\n",
      "6\n",
      "35021.0\n",
      "6\n",
      "29069020.0\n",
      "9\n",
      "11992.0\n",
      "6\n",
      "29078361.0\n",
      "9\n",
      "28683.0\n",
      "6\n",
      "172093.0\n",
      "7\n",
      "2715232.0\n",
      "8\n",
      "766385.0\n",
      "7\n",
      "99471.0\n",
      "6\n",
      "74937.0\n",
      "6\n",
      "18514.0\n",
      "6\n",
      "3565.0\n",
      "5\n",
      "2104985.0\n",
      "8\n",
      "157930.0\n",
      "7\n",
      "357902.0\n",
      "7\n",
      "9298.0\n",
      "5\n",
      "25680.0\n",
      "6\n",
      "39437431.0\n",
      "9\n",
      "2313424.0\n",
      "8\n",
      "430628.0\n",
      "7\n",
      "273685.0\n",
      "7\n",
      "856653.0\n",
      "7\n",
      "30547.0\n",
      "6\n",
      "14925.0\n",
      "6\n",
      "530369.0\n",
      "7\n",
      "97368135.0\n",
      "9\n",
      "113418.0\n",
      "7\n",
      "4097474.0\n",
      "8\n",
      "49171.0\n",
      "6\n",
      "87330.0\n",
      "6\n",
      "125553.0\n",
      "7\n",
      "1660269.0\n",
      "8\n",
      "118700.0\n",
      "7\n",
      "494092.0\n",
      "7\n",
      "11472.0\n",
      "6\n",
      "487952.0\n",
      "7\n",
      "20426.0\n",
      "6\n",
      "32090.0\n",
      "6\n",
      "169261.0\n",
      "7\n",
      "44991.0\n",
      "6\n",
      "959637.0\n",
      "7\n",
      "75085.0\n",
      "6\n",
      "12987.0\n",
      "6\n",
      "26.0\n",
      "3\n",
      "221511.0\n",
      "7\n",
      "109412.0\n",
      "7\n",
      "6884.0\n",
      "5\n",
      "120878.0\n",
      "7\n",
      "711981.0\n",
      "7\n",
      "4002.0\n",
      "5\n",
      "3002141.0\n",
      "8\n",
      "29194.0\n",
      "6\n",
      "165001.0\n",
      "7\n",
      "120867.0\n",
      "7\n",
      "440159.0\n",
      "7\n",
      "12764183.0\n",
      "9\n",
      "415714.0\n",
      "7\n",
      "225887871.0\n",
      "10\n",
      "234241.0\n",
      "7\n",
      "1808856.0\n",
      "8\n",
      "1616758.0\n",
      "8\n",
      "25240554.0\n",
      "9\n",
      "1463.0\n",
      "5\n",
      "473531.0\n",
      "7\n",
      "300510.0\n",
      "7\n",
      "541237.0\n",
      "7\n",
      "311976.0\n",
      "7\n",
      "1652570.0\n",
      "8\n",
      "14369.0\n",
      "6\n"
     ]
    }
   ],
   "source": [
    "stat = np.zeros(15)\n",
    "for likes in total_likes:\n",
    "    print(likes)\n",
    "    print(math.ceil(np.log10(likes))+1)\n",
    "    stat[math.ceil(np.log10(likes))]+=1"
   ]
  },
  {
   "cell_type": "code",
   "execution_count": 83,
   "metadata": {},
   "outputs": [
    {
     "data": {
      "text/plain": [
       "88.0"
      ]
     },
     "execution_count": 83,
     "metadata": {},
     "output_type": "execute_result"
    }
   ],
   "source": [
    "sum(stat[:10])"
   ]
  },
  {
   "cell_type": "code",
   "execution_count": 86,
   "metadata": {},
   "outputs": [],
   "source": [
    "interval = 10**np.arange(10)"
   ]
  },
  {
   "cell_type": "code",
   "execution_count": 87,
   "metadata": {},
   "outputs": [],
   "source": [
    "df3=pd.DataFrame({'Total number of likes':interval,'Number of YouTubers':stat[:10]})\n",
    "df3.to_csv('num_of_yt_total_likes.csv')"
   ]
  },
  {
   "cell_type": "markdown",
   "metadata": {},
   "source": [
    "# Total number of comment Vs number of YouTubers"
   ]
  },
  {
   "cell_type": "code",
   "execution_count": 91,
   "metadata": {},
   "outputs": [
    {
     "data": {
      "text/plain": [
       "3095802.0"
      ]
     },
     "execution_count": 91,
     "metadata": {},
     "output_type": "execute_result"
    }
   ],
   "source": [
    "total_comments = data[:,6]\n",
    "max(total_comments)"
   ]
  },
  {
   "cell_type": "code",
   "execution_count": 93,
   "metadata": {},
   "outputs": [
    {
     "name": "stdout",
     "output_type": "stream",
     "text": [
      "8333.0\n",
      "5\n",
      "16944.0\n",
      "6\n",
      "23940.0\n",
      "6\n",
      "12453.0\n",
      "6\n",
      "77590.0\n",
      "6\n",
      "2097.0\n",
      "5\n",
      "480.0\n",
      "4\n",
      "24780.0\n",
      "6\n",
      "1947.0\n",
      "5\n",
      "125441.0\n",
      "7\n",
      "71706.0\n",
      "6\n",
      "210452.0\n",
      "7\n",
      "11870.0\n",
      "6\n",
      "63417.0\n",
      "6\n",
      "38072.0\n",
      "6\n",
      "8912.0\n",
      "5\n",
      "402299.0\n",
      "7\n",
      "2927.0\n",
      "5\n",
      "417.0\n",
      "4\n",
      "890.0\n",
      "4\n",
      "666459.0\n",
      "7\n",
      "650.0\n",
      "4\n",
      "484246.0\n",
      "7\n",
      "904.0\n",
      "4\n",
      "3318.0\n",
      "5\n",
      "38249.0\n",
      "6\n",
      "25211.0\n",
      "6\n",
      "4187.0\n",
      "5\n",
      "2215.0\n",
      "5\n",
      "647.0\n",
      "4\n",
      "173.0\n",
      "4\n",
      "29401.0\n",
      "6\n",
      "7654.0\n",
      "5\n",
      "16434.0\n",
      "6\n",
      "284.0\n",
      "4\n",
      "1270.0\n",
      "5\n",
      "389579.0\n",
      "7\n",
      "34177.0\n",
      "6\n",
      "6752.0\n",
      "5\n",
      "9160.0\n",
      "5\n",
      "16295.0\n",
      "6\n",
      "1257.0\n",
      "5\n",
      "411.0\n",
      "4\n",
      "8931.0\n",
      "5\n",
      "1206791.0\n",
      "8\n",
      "4163.0\n",
      "5\n",
      "152767.0\n",
      "7\n",
      "1430.0\n",
      "5\n",
      "2762.0\n",
      "5\n",
      "5024.0\n",
      "5\n",
      "63513.0\n",
      "6\n",
      "3987.0\n",
      "5\n",
      "2185.0\n",
      "5\n",
      "695.0\n",
      "4\n",
      "6764.0\n",
      "5\n",
      "1670.0\n",
      "5\n",
      "923.0\n",
      "4\n",
      "7851.0\n",
      "5\n",
      "3847.0\n",
      "5\n",
      "12690.0\n",
      "6\n",
      "2156.0\n",
      "5\n",
      "338.0\n",
      "4\n",
      "2.0\n",
      "2\n",
      "4845.0\n",
      "5\n",
      "2179.0\n",
      "5\n",
      "243.0\n",
      "4\n",
      "7172.0\n",
      "5\n",
      "12215.0\n",
      "6\n",
      "204.0\n",
      "4\n",
      "71504.0\n",
      "6\n",
      "1424.0\n",
      "5\n",
      "5094.0\n",
      "5\n",
      "5595.0\n",
      "5\n",
      "4456.0\n",
      "5\n",
      "160807.0\n",
      "7\n",
      "7284.0\n",
      "5\n",
      "3095802.0\n",
      "8\n",
      "8154.0\n",
      "5\n",
      "71698.0\n",
      "6\n",
      "32438.0\n",
      "6\n",
      "255067.0\n",
      "7\n",
      "121.0\n",
      "4\n",
      "7482.0\n",
      "5\n",
      "4618.0\n",
      "5\n",
      "22150.0\n",
      "6\n",
      "5454.0\n",
      "5\n",
      "45005.0\n",
      "6\n",
      "125.0\n",
      "4\n"
     ]
    }
   ],
   "source": [
    "stat = np.zeros(15)\n",
    "for comments in total_comments:\n",
    "    print(comments)\n",
    "    print(math.ceil(np.log10(comments))+1)\n",
    "    stat[math.ceil(np.log10(comments))]+=1"
   ]
  },
  {
   "cell_type": "code",
   "execution_count": 98,
   "metadata": {},
   "outputs": [
    {
     "name": "stdout",
     "output_type": "stream",
     "text": [
      "88.0\n",
      "[ 0.  1.  0. 16. 37. 23.  9.  2.]\n"
     ]
    }
   ],
   "source": [
    "print(sum(stat[:8]))\n",
    "print(stat[:8])"
   ]
  },
  {
   "cell_type": "code",
   "execution_count": 99,
   "metadata": {},
   "outputs": [],
   "source": [
    "interval = 10**np.arange(8)"
   ]
  },
  {
   "cell_type": "code",
   "execution_count": 100,
   "metadata": {},
   "outputs": [],
   "source": [
    "df4=pd.DataFrame({'Total number of comments':interval,'Number of YouTubers':stat[:8]})\n",
    "df4.to_csv('num_of_yt_total_comments.csv')"
   ]
  },
  {
   "cell_type": "code",
   "execution_count": null,
   "metadata": {},
   "outputs": [],
   "source": []
  }
 ],
 "metadata": {
  "kernelspec": {
   "display_name": "Python 3",
   "language": "python",
   "name": "python3"
  },
  "language_info": {
   "codemirror_mode": {
    "name": "ipython",
    "version": 3
   },
   "file_extension": ".py",
   "mimetype": "text/x-python",
   "name": "python",
   "nbconvert_exporter": "python",
   "pygments_lexer": "ipython3",
   "version": "3.6.4"
  }
 },
 "nbformat": 4,
 "nbformat_minor": 2
}
